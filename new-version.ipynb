{
 "cells": [
  {
   "cell_type": "markdown",
   "metadata": {
    "papermill": {
     "duration": 0.018226,
     "end_time": "2020-10-20T10:18:54.795765",
     "exception": false,
     "start_time": "2020-10-20T10:18:54.777539",
     "status": "completed"
    },
    "tags": []
   },
   "source": [
    "## Import the necessary libraries"
   ]
  },
  {
   "cell_type": "code",
   "execution_count": 1,
   "metadata": {
    "_cell_guid": "79c7e3d0-c299-4dcb-8224-4455121ee9b0",
    "_uuid": "d629ff2d2480ee46fbb7e2d37f6b5fab8052498a",
    "execution": {
     "iopub.execute_input": "2020-10-20T10:18:54.838715Z",
     "iopub.status.busy": "2020-10-20T10:18:54.838273Z",
     "iopub.status.idle": "2020-10-20T10:18:56.535892Z",
     "shell.execute_reply": "2020-10-20T10:18:56.536251Z"
    },
    "papermill": {
     "duration": 1.723681,
     "end_time": "2020-10-20T10:18:56.536378",
     "exception": false,
     "start_time": "2020-10-20T10:18:54.812697",
     "status": "completed"
    },
    "tags": []
   },
   "outputs": [],
   "source": [
    "import pandas as pd\n",
    "import numpy as np\n",
    "import nltk\n",
    "import string\n",
    "import re\n",
    "from sklearn.feature_extraction.text import TfidfVectorizer\n",
    "from sklearn.linear_model import LogisticRegression\n",
    "from sklearn.naive_bayes import MultinomialNB\n",
    "from sklearn.ensemble import RandomForestClassifier, AdaBoostClassifier\n",
    "from sklearn.svm import LinearSVC\n",
    "from sklearn.model_selection import train_test_split\n",
    "from sklearn.naive_bayes import MultinomialNB\n",
    "from nltk.stem import WordNetLemmatizer\n",
    "from nltk.corpus import stopwords\n",
    "\n",
    "from sklearn.metrics import f1_score\n",
    "\n",
    "import seaborn as sns\n",
    "import matplotlib.pyplot as plt\n",
    "%matplotlib inline"
   ]
  },
  {
   "cell_type": "markdown",
   "metadata": {
    "papermill": {
     "duration": 0.016897,
     "end_time": "2020-10-20T10:18:56.571646",
     "exception": false,
     "start_time": "2020-10-20T10:18:56.554749",
     "status": "completed"
    },
    "tags": []
   },
   "source": [
    "## Load in your data from kaggle.  "
   ]
  },
  {
   "cell_type": "code",
   "execution_count": 2,
   "metadata": {
    "execution": {
     "iopub.execute_input": "2020-10-20T10:18:56.614969Z",
     "iopub.status.busy": "2020-10-20T10:18:56.614517Z",
     "iopub.status.idle": "2020-10-20T10:18:56.712936Z",
     "shell.execute_reply": "2020-10-20T10:18:56.712510Z"
    },
    "papermill": {
     "duration": 0.124085,
     "end_time": "2020-10-20T10:18:56.713017",
     "exception": false,
     "start_time": "2020-10-20T10:18:56.588932",
     "status": "completed"
    },
    "tags": []
   },
   "outputs": [],
   "source": [
    "train = pd.read_csv('../input/climate-change-edsa2020-21/train.csv')\n",
    "test = pd.read_csv('../input/climate-change-edsa2020-21/test.csv')"
   ]
  },
  {
   "cell_type": "markdown",
   "metadata": {
    "papermill": {
     "duration": 0.017386,
     "end_time": "2020-10-20T10:18:56.748148",
     "exception": false,
     "start_time": "2020-10-20T10:18:56.730762",
     "status": "completed"
    },
    "tags": []
   },
   "source": [
    "First we need to check how many values of each sentiment we have to see if the data is balanced."
   ]
  },
  {
   "cell_type": "code",
   "execution_count": 3,
   "metadata": {
    "execution": {
     "iopub.execute_input": "2020-10-20T10:18:56.797139Z",
     "iopub.status.busy": "2020-10-20T10:18:56.791607Z",
     "iopub.status.idle": "2020-10-20T10:18:56.800469Z",
     "shell.execute_reply": "2020-10-20T10:18:56.800927Z"
    },
    "papermill": {
     "duration": 0.035723,
     "end_time": "2020-10-20T10:18:56.801010",
     "exception": false,
     "start_time": "2020-10-20T10:18:56.765287",
     "status": "completed"
    },
    "tags": []
   },
   "outputs": [
    {
     "data": {
      "text/plain": [
       " 1    8530\n",
       " 2    3640\n",
       " 0    2353\n",
       "-1    1296\n",
       "Name: sentiment, dtype: int64"
      ]
     },
     "execution_count": 3,
     "metadata": {},
     "output_type": "execute_result"
    }
   ],
   "source": [
    "train.sentiment.value_counts()"
   ]
  },
  {
   "cell_type": "markdown",
   "metadata": {
    "papermill": {
     "duration": 0.017215,
     "end_time": "2020-10-20T10:18:56.836084",
     "exception": false,
     "start_time": "2020-10-20T10:18:56.818869",
     "status": "completed"
    },
    "tags": []
   },
   "source": [
    "Let's see how our data is structured."
   ]
  },
  {
   "cell_type": "code",
   "execution_count": 4,
   "metadata": {
    "execution": {
     "iopub.execute_input": "2020-10-20T10:18:56.877933Z",
     "iopub.status.busy": "2020-10-20T10:18:56.877487Z",
     "iopub.status.idle": "2020-10-20T10:18:56.885271Z",
     "shell.execute_reply": "2020-10-20T10:18:56.884854Z"
    },
    "papermill": {
     "duration": 0.031629,
     "end_time": "2020-10-20T10:18:56.885335",
     "exception": false,
     "start_time": "2020-10-20T10:18:56.853706",
     "status": "completed"
    },
    "tags": []
   },
   "outputs": [
    {
     "data": {
      "text/html": [
       "<div>\n",
       "<style scoped>\n",
       "    .dataframe tbody tr th:only-of-type {\n",
       "        vertical-align: middle;\n",
       "    }\n",
       "\n",
       "    .dataframe tbody tr th {\n",
       "        vertical-align: top;\n",
       "    }\n",
       "\n",
       "    .dataframe thead th {\n",
       "        text-align: right;\n",
       "    }\n",
       "</style>\n",
       "<table border=\"1\" class=\"dataframe\">\n",
       "  <thead>\n",
       "    <tr style=\"text-align: right;\">\n",
       "      <th></th>\n",
       "      <th>sentiment</th>\n",
       "      <th>message</th>\n",
       "      <th>tweetid</th>\n",
       "    </tr>\n",
       "  </thead>\n",
       "  <tbody>\n",
       "    <tr>\n",
       "      <th>0</th>\n",
       "      <td>1</td>\n",
       "      <td>PolySciMajor EPA chief doesn't think carbon di...</td>\n",
       "      <td>625221</td>\n",
       "    </tr>\n",
       "    <tr>\n",
       "      <th>1</th>\n",
       "      <td>1</td>\n",
       "      <td>It's not like we lack evidence of anthropogeni...</td>\n",
       "      <td>126103</td>\n",
       "    </tr>\n",
       "    <tr>\n",
       "      <th>2</th>\n",
       "      <td>2</td>\n",
       "      <td>RT @RawStory: Researchers say we have three ye...</td>\n",
       "      <td>698562</td>\n",
       "    </tr>\n",
       "    <tr>\n",
       "      <th>3</th>\n",
       "      <td>1</td>\n",
       "      <td>#TodayinMaker# WIRED : 2016 was a pivotal year...</td>\n",
       "      <td>573736</td>\n",
       "    </tr>\n",
       "    <tr>\n",
       "      <th>4</th>\n",
       "      <td>1</td>\n",
       "      <td>RT @SoyNovioDeTodas: It's 2016, and a racist, ...</td>\n",
       "      <td>466954</td>\n",
       "    </tr>\n",
       "  </tbody>\n",
       "</table>\n",
       "</div>"
      ],
      "text/plain": [
       "   sentiment                                            message  tweetid\n",
       "0          1  PolySciMajor EPA chief doesn't think carbon di...   625221\n",
       "1          1  It's not like we lack evidence of anthropogeni...   126103\n",
       "2          2  RT @RawStory: Researchers say we have three ye...   698562\n",
       "3          1  #TodayinMaker# WIRED : 2016 was a pivotal year...   573736\n",
       "4          1  RT @SoyNovioDeTodas: It's 2016, and a racist, ...   466954"
      ]
     },
     "execution_count": 4,
     "metadata": {},
     "output_type": "execute_result"
    }
   ],
   "source": [
    "train.head()"
   ]
  },
  {
   "cell_type": "raw",
   "metadata": {
    "papermill": {
     "duration": 0.018661,
     "end_time": "2020-10-20T10:18:56.922339",
     "exception": false,
     "start_time": "2020-10-20T10:18:56.903678",
     "status": "completed"
    },
    "tags": []
   },
   "source": [
    "Our data consists of a message with an associated tweetid and whether that tweet is believe, non-belief, news or neutral. It is clear that the data is unbalanced. We need to balance it before we go any further."
   ]
  },
  {
   "cell_type": "markdown",
   "metadata": {
    "papermill": {
     "duration": 0.017788,
     "end_time": "2020-10-20T10:18:56.958781",
     "exception": false,
     "start_time": "2020-10-20T10:18:56.940993",
     "status": "completed"
    },
    "tags": []
   },
   "source": [
    "# Balance data"
   ]
  },
  {
   "cell_type": "code",
   "execution_count": 5,
   "metadata": {
    "execution": {
     "iopub.execute_input": "2020-10-20T10:18:57.000396Z",
     "iopub.status.busy": "2020-10-20T10:18:56.999946Z",
     "iopub.status.idle": "2020-10-20T10:18:57.023751Z",
     "shell.execute_reply": "2020-10-20T10:18:57.023365Z"
    },
    "papermill": {
     "duration": 0.047452,
     "end_time": "2020-10-20T10:18:57.023871",
     "exception": false,
     "start_time": "2020-10-20T10:18:56.976419",
     "status": "completed"
    },
    "tags": []
   },
   "outputs": [],
   "source": [
    "from sklearn.utils import resample\n",
    "believe = train[train['sentiment'] == 1]\n",
    "no_belief = train[train['sentiment']== -1]\n",
    "neutral = train[train['sentiment']== 0]\n",
    "news = train[train['sentiment']== 2]"
   ]
  },
  {
   "cell_type": "code",
   "execution_count": 6,
   "metadata": {
    "execution": {
     "iopub.execute_input": "2020-10-20T10:18:57.066655Z",
     "iopub.status.busy": "2020-10-20T10:18:57.066047Z",
     "iopub.status.idle": "2020-10-20T10:18:57.071216Z",
     "shell.execute_reply": "2020-10-20T10:18:57.070863Z"
    },
    "papermill": {
     "duration": 0.028797,
     "end_time": "2020-10-20T10:18:57.071297",
     "exception": false,
     "start_time": "2020-10-20T10:18:57.042500",
     "status": "completed"
    },
    "tags": []
   },
   "outputs": [],
   "source": [
    "#Upsample minority\n",
    "no_belief_upsampled = resample(no_belief, replace=True, n_samples = len(believe), random_state=27)\n",
    "neutral_upsampled = resample(neutral, replace=True, n_samples = len(believe), random_state=27)\n",
    "news_upsampled = resample(news, replace=True, n_samples = len(believe), random_state=27)"
   ]
  },
  {
   "cell_type": "code",
   "execution_count": 7,
   "metadata": {
    "execution": {
     "iopub.execute_input": "2020-10-20T10:18:57.113331Z",
     "iopub.status.busy": "2020-10-20T10:18:57.112713Z",
     "iopub.status.idle": "2020-10-20T10:18:57.117606Z",
     "shell.execute_reply": "2020-10-20T10:18:57.117170Z"
    },
    "papermill": {
     "duration": 0.027886,
     "end_time": "2020-10-20T10:18:57.117684",
     "exception": false,
     "start_time": "2020-10-20T10:18:57.089798",
     "status": "completed"
    },
    "tags": []
   },
   "outputs": [],
   "source": [
    "#Combine majority and upsampled minority\n",
    "upsampled =pd.concat([believe, no_belief_upsampled, neutral_upsampled, news_upsampled])"
   ]
  },
  {
   "cell_type": "code",
   "execution_count": 8,
   "metadata": {
    "execution": {
     "iopub.execute_input": "2020-10-20T10:18:57.158235Z",
     "iopub.status.busy": "2020-10-20T10:18:57.157586Z",
     "iopub.status.idle": "2020-10-20T10:18:57.163501Z",
     "shell.execute_reply": "2020-10-20T10:18:57.162901Z"
    },
    "papermill": {
     "duration": 0.027345,
     "end_time": "2020-10-20T10:18:57.163574",
     "exception": false,
     "start_time": "2020-10-20T10:18:57.136229",
     "status": "completed"
    },
    "tags": []
   },
   "outputs": [
    {
     "data": {
      "text/plain": [
       "-1    8530\n",
       " 2    8530\n",
       " 1    8530\n",
       " 0    8530\n",
       "Name: sentiment, dtype: int64"
      ]
     },
     "execution_count": 8,
     "metadata": {},
     "output_type": "execute_result"
    }
   ],
   "source": [
    "upsampled.sentiment.value_counts()"
   ]
  },
  {
   "cell_type": "raw",
   "metadata": {
    "papermill": {
     "duration": 0.018533,
     "end_time": "2020-10-20T10:18:57.200848",
     "exception": false,
     "start_time": "2020-10-20T10:18:57.182315",
     "status": "completed"
    },
    "tags": []
   },
   "source": [
    "Our data is now balanced and we can continue cleaning."
   ]
  },
  {
   "cell_type": "markdown",
   "metadata": {
    "papermill": {
     "duration": 0.018342,
     "end_time": "2020-10-20T10:18:57.237941",
     "exception": false,
     "start_time": "2020-10-20T10:18:57.219599",
     "status": "completed"
    },
    "tags": []
   },
   "source": [
    "# Data Cleaning"
   ]
  },
  {
   "cell_type": "code",
   "execution_count": 9,
   "metadata": {
    "execution": {
     "iopub.execute_input": "2020-10-20T10:18:57.280655Z",
     "iopub.status.busy": "2020-10-20T10:18:57.280192Z",
     "iopub.status.idle": "2020-10-20T10:18:57.357643Z",
     "shell.execute_reply": "2020-10-20T10:18:57.357246Z"
    },
    "papermill": {
     "duration": 0.100331,
     "end_time": "2020-10-20T10:18:57.357725",
     "exception": false,
     "start_time": "2020-10-20T10:18:57.257394",
     "status": "completed"
    },
    "tags": []
   },
   "outputs": [],
   "source": [
    "#Remove all websites and replce them with the text 'web_url'\n",
    "pattern_url = r'http[s]?://(?:[A-Za-z]|[0-9]|[$-_@.&+]|[!*\\(\\),]|(?:%[0-9A-Fa-f][0-9A-Fa-f]))+'\n",
    "subs_url = r'url-web'\n",
    "upsampled['message'] = upsampled['message'].replace(to_replace = pattern_url, value = subs_url, regex = True)"
   ]
  },
  {
   "cell_type": "code",
   "execution_count": 10,
   "metadata": {
    "execution": {
     "iopub.execute_input": "2020-10-20T10:18:57.419470Z",
     "iopub.status.busy": "2020-10-20T10:18:57.414416Z",
     "iopub.status.idle": "2020-10-20T10:18:57.431050Z",
     "shell.execute_reply": "2020-10-20T10:18:57.430681Z"
    },
    "papermill": {
     "duration": 0.05422,
     "end_time": "2020-10-20T10:18:57.431125",
     "exception": false,
     "start_time": "2020-10-20T10:18:57.376905",
     "status": "completed"
    },
    "tags": []
   },
   "outputs": [],
   "source": [
    "#make all lower case\n",
    "upsampled['message'] = upsampled['message'].str.lower()"
   ]
  },
  {
   "cell_type": "code",
   "execution_count": 11,
   "metadata": {
    "execution": {
     "iopub.execute_input": "2020-10-20T10:18:57.493446Z",
     "iopub.status.busy": "2020-10-20T10:18:57.483178Z",
     "iopub.status.idle": "2020-10-20T10:18:57.766633Z",
     "shell.execute_reply": "2020-10-20T10:18:57.766139Z"
    },
    "papermill": {
     "duration": 0.316631,
     "end_time": "2020-10-20T10:18:57.766733",
     "exception": false,
     "start_time": "2020-10-20T10:18:57.450102",
     "status": "completed"
    },
    "tags": []
   },
   "outputs": [],
   "source": [
    "#Remove punctuation and numbers\n",
    "def remove_punctuation_numbers(post):\n",
    "    punc_numbers = string.punctuation + '0123456789'\n",
    "    return ''.join([l for l in post if l not in punc_numbers])\n",
    "upsampled['message'] = upsampled['message'].apply(remove_punctuation_numbers)"
   ]
  },
  {
   "cell_type": "code",
   "execution_count": 12,
   "metadata": {
    "execution": {
     "iopub.execute_input": "2020-10-20T10:18:57.831071Z",
     "iopub.status.busy": "2020-10-20T10:18:57.830595Z",
     "iopub.status.idle": "2020-10-20T10:18:57.835516Z",
     "shell.execute_reply": "2020-10-20T10:18:57.835138Z"
    },
    "papermill": {
     "duration": 0.039992,
     "end_time": "2020-10-20T10:18:57.835584",
     "exception": false,
     "start_time": "2020-10-20T10:18:57.795592",
     "status": "completed"
    },
    "tags": []
   },
   "outputs": [
    {
     "data": {
      "text/html": [
       "<div>\n",
       "<style scoped>\n",
       "    .dataframe tbody tr th:only-of-type {\n",
       "        vertical-align: middle;\n",
       "    }\n",
       "\n",
       "    .dataframe tbody tr th {\n",
       "        vertical-align: top;\n",
       "    }\n",
       "\n",
       "    .dataframe thead th {\n",
       "        text-align: right;\n",
       "    }\n",
       "</style>\n",
       "<table border=\"1\" class=\"dataframe\">\n",
       "  <thead>\n",
       "    <tr style=\"text-align: right;\">\n",
       "      <th></th>\n",
       "      <th>sentiment</th>\n",
       "      <th>message</th>\n",
       "      <th>tweetid</th>\n",
       "    </tr>\n",
       "  </thead>\n",
       "  <tbody>\n",
       "    <tr>\n",
       "      <th>0</th>\n",
       "      <td>1</td>\n",
       "      <td>polyscimajor epa chief doesnt think carbon dio...</td>\n",
       "      <td>625221</td>\n",
       "    </tr>\n",
       "    <tr>\n",
       "      <th>1</th>\n",
       "      <td>1</td>\n",
       "      <td>its not like we lack evidence of anthropogenic...</td>\n",
       "      <td>126103</td>\n",
       "    </tr>\n",
       "    <tr>\n",
       "      <th>3</th>\n",
       "      <td>1</td>\n",
       "      <td>todayinmaker wired   was a pivotal year in the...</td>\n",
       "      <td>573736</td>\n",
       "    </tr>\n",
       "    <tr>\n",
       "      <th>4</th>\n",
       "      <td>1</td>\n",
       "      <td>rt soynoviodetodas its  and a racist sexist cl...</td>\n",
       "      <td>466954</td>\n",
       "    </tr>\n",
       "    <tr>\n",
       "      <th>5</th>\n",
       "      <td>1</td>\n",
       "      <td>worth a read whether you do or dont believe in...</td>\n",
       "      <td>425577</td>\n",
       "    </tr>\n",
       "  </tbody>\n",
       "</table>\n",
       "</div>"
      ],
      "text/plain": [
       "   sentiment                                            message  tweetid\n",
       "0          1  polyscimajor epa chief doesnt think carbon dio...   625221\n",
       "1          1  its not like we lack evidence of anthropogenic...   126103\n",
       "3          1  todayinmaker wired   was a pivotal year in the...   573736\n",
       "4          1  rt soynoviodetodas its  and a racist sexist cl...   466954\n",
       "5          1  worth a read whether you do or dont believe in...   425577"
      ]
     },
     "execution_count": 12,
     "metadata": {},
     "output_type": "execute_result"
    }
   ],
   "source": [
    "upsampled.head()"
   ]
  },
  {
   "cell_type": "markdown",
   "metadata": {
    "papermill": {
     "duration": 0.019529,
     "end_time": "2020-10-20T10:18:57.874218",
     "exception": false,
     "start_time": "2020-10-20T10:18:57.854689",
     "status": "completed"
    },
    "tags": []
   },
   "source": [
    "That looks much better. Now to begin preparing our data for our model."
   ]
  },
  {
   "cell_type": "markdown",
   "metadata": {
    "papermill": {
     "duration": 0.019459,
     "end_time": "2020-10-20T10:18:57.912808",
     "exception": false,
     "start_time": "2020-10-20T10:18:57.893349",
     "status": "completed"
    },
    "tags": []
   },
   "source": [
    "## Splitting out the X variable from the target"
   ]
  },
  {
   "cell_type": "code",
   "execution_count": 13,
   "metadata": {
    "execution": {
     "iopub.execute_input": "2020-10-20T10:18:57.955970Z",
     "iopub.status.busy": "2020-10-20T10:18:57.955470Z",
     "iopub.status.idle": "2020-10-20T10:18:57.958860Z",
     "shell.execute_reply": "2020-10-20T10:18:57.958386Z"
    },
    "papermill": {
     "duration": 0.026701,
     "end_time": "2020-10-20T10:18:57.958955",
     "exception": false,
     "start_time": "2020-10-20T10:18:57.932254",
     "status": "completed"
    },
    "tags": []
   },
   "outputs": [],
   "source": [
    "y = upsampled['sentiment']\n",
    "X = upsampled['message']"
   ]
  },
  {
   "cell_type": "markdown",
   "metadata": {
    "papermill": {
     "duration": 0.029958,
     "end_time": "2020-10-20T10:18:58.018309",
     "exception": false,
     "start_time": "2020-10-20T10:18:57.988351",
     "status": "completed"
    },
    "tags": []
   },
   "source": [
    "Let's create a stemmer and tokenizer to make the text more readable for our model."
   ]
  },
  {
   "cell_type": "code",
   "execution_count": 14,
   "metadata": {
    "execution": {
     "iopub.execute_input": "2020-10-20T10:18:58.084896Z",
     "iopub.status.busy": "2020-10-20T10:18:58.084236Z",
     "iopub.status.idle": "2020-10-20T10:18:58.085868Z",
     "shell.execute_reply": "2020-10-20T10:18:58.086293Z"
    },
    "papermill": {
     "duration": 0.037488,
     "end_time": "2020-10-20T10:18:58.086386",
     "exception": false,
     "start_time": "2020-10-20T10:18:58.048898",
     "status": "completed"
    },
    "tags": []
   },
   "outputs": [],
   "source": [
    "from nltk.stem import PorterStemmer\n",
    "\n",
    "# init stemmer\n",
    "porter_stemmer=PorterStemmer()\n",
    "\n",
    "def text_preprocessor(text):\n",
    "    \n",
    "    text=text.lower() \n",
    "    text=re.sub(\"\\\\W\",\" \",text) # remove special chars\n",
    "    text=re.sub(\"\\\\s+(in|the|all|for|and|on)\\\\s+\",\" _connector_ \",text) # normalize certain words\n",
    "    \n",
    "    # stem words\n",
    "    words=re.split(\"\\\\s+\",text)\n",
    "    stemmed_words=[porter_stemmer.stem(word=word) for word in words]\n",
    "    return ' '.join(stemmed_words)"
   ]
  },
  {
   "cell_type": "code",
   "execution_count": 15,
   "metadata": {
    "execution": {
     "iopub.execute_input": "2020-10-20T10:18:58.130710Z",
     "iopub.status.busy": "2020-10-20T10:18:58.130290Z",
     "iopub.status.idle": "2020-10-20T10:18:58.132933Z",
     "shell.execute_reply": "2020-10-20T10:18:58.132433Z"
    },
    "papermill": {
     "duration": 0.026513,
     "end_time": "2020-10-20T10:18:58.133003",
     "exception": false,
     "start_time": "2020-10-20T10:18:58.106490",
     "status": "completed"
    },
    "tags": []
   },
   "outputs": [],
   "source": [
    "def my_tokenizer(text):\n",
    "    # create a space between special characters \n",
    "    text=re.sub(\"(\\\\W)\",\" \\\\1 \",text)\n",
    "\n",
    "    # split based on whitespace\n",
    "    return re.split(\"\\\\s+\",text)"
   ]
  },
  {
   "cell_type": "markdown",
   "metadata": {
    "papermill": {
     "duration": 0.019713,
     "end_time": "2020-10-20T10:18:58.172571",
     "exception": false,
     "start_time": "2020-10-20T10:18:58.152858",
     "status": "completed"
    },
    "tags": []
   },
   "source": [
    "## Turning text into something your model can read"
   ]
  },
  {
   "cell_type": "code",
   "execution_count": 16,
   "metadata": {
    "execution": {
     "iopub.execute_input": "2020-10-20T10:18:58.226314Z",
     "iopub.status.busy": "2020-10-20T10:18:58.219762Z",
     "iopub.status.idle": "2020-10-20T10:19:18.124480Z",
     "shell.execute_reply": "2020-10-20T10:19:18.124002Z"
    },
    "papermill": {
     "duration": 19.932216,
     "end_time": "2020-10-20T10:19:18.124560",
     "exception": false,
     "start_time": "2020-10-20T10:18:58.192344",
     "status": "completed"
    },
    "tags": []
   },
   "outputs": [
    {
     "name": "stderr",
     "output_type": "stream",
     "text": [
      "/opt/conda/lib/python3.7/site-packages/sklearn/feature_extraction/text.py:386: UserWarning: Your stop_words may be inconsistent with your preprocessing. Tokenizing the stop words generated tokens ['abov', 'afterward', 'alon', 'alreadi', 'alway', 'ani', 'anoth', 'anyon', 'anyth', 'anywher', 'becam', 'becaus', 'becom', 'befor', 'besid', 'cri', 'describ', 'dure', 'els', 'elsewher', 'empti', 'everi', 'everyon', 'everyth', 'everywher', 'fifti', 'formerli', 'forti', 'ha', 'henc', 'hereaft', 'herebi', 'hi', 'howev', 'hundr', 'inde', 'latterli', 'mani', 'meanwhil', 'moreov', 'mostli', 'nobodi', 'noon', 'noth', 'nowher', 'onc', 'onli', 'otherwis', 'ourselv', 'perhap', 'pleas', 'seriou', 'sever', 'sinc', 'sincer', 'sixti', 'someon', 'someth', 'sometim', 'somewher', 'themselv', 'thenc', 'thereaft', 'therebi', 'therefor', 'thi', 'thu', 'togeth', 'twelv', 'twenti', 'veri', 'wa', 'whatev', 'whenc', 'whenev', 'wherea', 'whereaft', 'wherebi', 'wherev', 'whi', 'yourselv'] not in stop_words.\n",
      "  'stop_words.' % sorted(inconsistent))\n"
     ]
    }
   ],
   "source": [
    "vectorizer = TfidfVectorizer(ngram_range=(1,2),tokenizer=my_tokenizer, min_df=2,max_df=0.80,analyzer='word',smooth_idf=False, preprocessor=text_preprocessor,stop_words=\"english\")\n",
    "X_vectorized = vectorizer.fit_transform(X)"
   ]
  },
  {
   "cell_type": "markdown",
   "metadata": {
    "papermill": {
     "duration": 0.02024,
     "end_time": "2020-10-20T10:19:18.165441",
     "exception": false,
     "start_time": "2020-10-20T10:19:18.145201",
     "status": "completed"
    },
    "tags": []
   },
   "source": [
    "## Splitting the training data into a training and validation set"
   ]
  },
  {
   "cell_type": "code",
   "execution_count": 17,
   "metadata": {
    "execution": {
     "iopub.execute_input": "2020-10-20T10:19:18.212196Z",
     "iopub.status.busy": "2020-10-20T10:19:18.211581Z",
     "iopub.status.idle": "2020-10-20T10:19:18.218966Z",
     "shell.execute_reply": "2020-10-20T10:19:18.218384Z"
    },
    "papermill": {
     "duration": 0.033007,
     "end_time": "2020-10-20T10:19:18.219060",
     "exception": false,
     "start_time": "2020-10-20T10:19:18.186053",
     "status": "completed"
    },
    "tags": []
   },
   "outputs": [],
   "source": [
    "X_train,X_val,y_train,y_val = train_test_split(X_vectorized,y,test_size=0.30,shuffle=True, random_state=25)"
   ]
  },
  {
   "cell_type": "markdown",
   "metadata": {
    "papermill": {
     "duration": 0.032956,
     "end_time": "2020-10-20T10:19:18.283337",
     "exception": false,
     "start_time": "2020-10-20T10:19:18.250381",
     "status": "completed"
    },
    "tags": []
   },
   "source": [
    "## Training the model and evaluating using the validation set "
   ]
  },
  {
   "cell_type": "code",
   "execution_count": 18,
   "metadata": {
    "execution": {
     "iopub.execute_input": "2020-10-20T10:19:18.350534Z",
     "iopub.status.busy": "2020-10-20T10:19:18.350093Z",
     "iopub.status.idle": "2020-10-20T10:19:18.882096Z",
     "shell.execute_reply": "2020-10-20T10:19:18.882548Z"
    },
    "papermill": {
     "duration": 0.567482,
     "end_time": "2020-10-20T10:19:18.882650",
     "exception": false,
     "start_time": "2020-10-20T10:19:18.315168",
     "status": "completed"
    },
    "tags": []
   },
   "outputs": [],
   "source": [
    "lsvc = LinearSVC()\n",
    "lsvc.fit(X_train, y_train)\n",
    "lsvc_pred = lsvc.predict(X_val)"
   ]
  },
  {
   "cell_type": "markdown",
   "metadata": {
    "papermill": {
     "duration": 0.020443,
     "end_time": "2020-10-20T10:19:18.923543",
     "exception": false,
     "start_time": "2020-10-20T10:19:18.903100",
     "status": "completed"
    },
    "tags": []
   },
   "source": [
    "## Checking the performance of our model on the validation set"
   ]
  },
  {
   "cell_type": "code",
   "execution_count": 19,
   "metadata": {
    "execution": {
     "iopub.execute_input": "2020-10-20T10:19:18.968158Z",
     "iopub.status.busy": "2020-10-20T10:19:18.967574Z",
     "iopub.status.idle": "2020-10-20T10:19:18.975372Z",
     "shell.execute_reply": "2020-10-20T10:19:18.974922Z"
    },
    "papermill": {
     "duration": 0.031658,
     "end_time": "2020-10-20T10:19:18.975455",
     "exception": false,
     "start_time": "2020-10-20T10:19:18.943797",
     "status": "completed"
    },
    "tags": []
   },
   "outputs": [
    {
     "data": {
      "text/plain": [
       "0.9506267180466148"
      ]
     },
     "execution_count": 19,
     "metadata": {},
     "output_type": "execute_result"
    }
   ],
   "source": [
    "f1_score(y_val, lsvc_pred, average=\"macro\")"
   ]
  },
  {
   "cell_type": "code",
   "execution_count": 20,
   "metadata": {
    "execution": {
     "iopub.execute_input": "2020-10-20T10:19:19.040912Z",
     "iopub.status.busy": "2020-10-20T10:19:19.040351Z",
     "iopub.status.idle": "2020-10-20T10:19:19.060019Z",
     "shell.execute_reply": "2020-10-20T10:19:19.059299Z"
    },
    "papermill": {
     "duration": 0.053892,
     "end_time": "2020-10-20T10:19:19.060119",
     "exception": false,
     "start_time": "2020-10-20T10:19:19.006227",
     "status": "completed"
    },
    "tags": []
   },
   "outputs": [
    {
     "name": "stdout",
     "output_type": "stream",
     "text": [
      "              precision    recall  f1-score   support\n",
      "\n",
      "          -1       0.98      0.99      0.98      2552\n",
      "           0       0.95      0.96      0.96      2601\n",
      "           1       0.94      0.89      0.91      2553\n",
      "           2       0.93      0.97      0.95      2530\n",
      "\n",
      "    accuracy                           0.95     10236\n",
      "   macro avg       0.95      0.95      0.95     10236\n",
      "weighted avg       0.95      0.95      0.95     10236\n",
      "\n"
     ]
    }
   ],
   "source": [
    "from sklearn import metrics\n",
    "\n",
    "print(metrics.classification_report(y_val, lsvc_pred))"
   ]
  },
  {
   "cell_type": "markdown",
   "metadata": {
    "papermill": {
     "duration": 0.031183,
     "end_time": "2020-10-20T10:19:19.122977",
     "exception": false,
     "start_time": "2020-10-20T10:19:19.091794",
     "status": "completed"
    },
    "tags": []
   },
   "source": [
    "## Getting our test set ready "
   ]
  },
  {
   "cell_type": "code",
   "execution_count": 21,
   "metadata": {
    "execution": {
     "iopub.execute_input": "2020-10-20T10:19:19.225092Z",
     "iopub.status.busy": "2020-10-20T10:19:19.209681Z",
     "iopub.status.idle": "2020-10-20T10:19:23.904387Z",
     "shell.execute_reply": "2020-10-20T10:19:23.904897Z"
    },
    "papermill": {
     "duration": 4.750785,
     "end_time": "2020-10-20T10:19:23.905030",
     "exception": false,
     "start_time": "2020-10-20T10:19:19.154245",
     "status": "completed"
    },
    "tags": []
   },
   "outputs": [],
   "source": [
    "testx = test['message']\n",
    "test_vect = vectorizer.transform(testx)"
   ]
  },
  {
   "cell_type": "markdown",
   "metadata": {
    "papermill": {
     "duration": 0.031415,
     "end_time": "2020-10-20T10:19:23.969476",
     "exception": false,
     "start_time": "2020-10-20T10:19:23.938061",
     "status": "completed"
    },
    "tags": []
   },
   "source": [
    "## Making predictions on the test set and adding a sentiment column to our original test df"
   ]
  },
  {
   "cell_type": "code",
   "execution_count": 22,
   "metadata": {
    "execution": {
     "iopub.execute_input": "2020-10-20T10:19:24.036700Z",
     "iopub.status.busy": "2020-10-20T10:19:24.036105Z",
     "iopub.status.idle": "2020-10-20T10:19:24.041687Z",
     "shell.execute_reply": "2020-10-20T10:19:24.041204Z"
    },
    "papermill": {
     "duration": 0.040833,
     "end_time": "2020-10-20T10:19:24.041774",
     "exception": false,
     "start_time": "2020-10-20T10:19:24.000941",
     "status": "completed"
    },
    "tags": []
   },
   "outputs": [],
   "source": [
    "y_pred = lsvc.predict(test_vect)"
   ]
  },
  {
   "cell_type": "code",
   "execution_count": 23,
   "metadata": {
    "execution": {
     "iopub.execute_input": "2020-10-20T10:19:24.109744Z",
     "iopub.status.busy": "2020-10-20T10:19:24.109155Z",
     "iopub.status.idle": "2020-10-20T10:19:24.111493Z",
     "shell.execute_reply": "2020-10-20T10:19:24.112014Z"
    },
    "papermill": {
     "duration": 0.038589,
     "end_time": "2020-10-20T10:19:24.112114",
     "exception": false,
     "start_time": "2020-10-20T10:19:24.073525",
     "status": "completed"
    },
    "tags": []
   },
   "outputs": [],
   "source": [
    "test['sentiment'] = y_pred"
   ]
  },
  {
   "cell_type": "code",
   "execution_count": 24,
   "metadata": {
    "execution": {
     "iopub.execute_input": "2020-10-20T10:19:24.183016Z",
     "iopub.status.busy": "2020-10-20T10:19:24.180745Z",
     "iopub.status.idle": "2020-10-20T10:19:24.186533Z",
     "shell.execute_reply": "2020-10-20T10:19:24.186919Z"
    },
    "papermill": {
     "duration": 0.042861,
     "end_time": "2020-10-20T10:19:24.187024",
     "exception": false,
     "start_time": "2020-10-20T10:19:24.144163",
     "status": "completed"
    },
    "tags": []
   },
   "outputs": [
    {
     "data": {
      "text/html": [
       "<div>\n",
       "<style scoped>\n",
       "    .dataframe tbody tr th:only-of-type {\n",
       "        vertical-align: middle;\n",
       "    }\n",
       "\n",
       "    .dataframe tbody tr th {\n",
       "        vertical-align: top;\n",
       "    }\n",
       "\n",
       "    .dataframe thead th {\n",
       "        text-align: right;\n",
       "    }\n",
       "</style>\n",
       "<table border=\"1\" class=\"dataframe\">\n",
       "  <thead>\n",
       "    <tr style=\"text-align: right;\">\n",
       "      <th></th>\n",
       "      <th>message</th>\n",
       "      <th>tweetid</th>\n",
       "      <th>sentiment</th>\n",
       "    </tr>\n",
       "  </thead>\n",
       "  <tbody>\n",
       "    <tr>\n",
       "      <th>0</th>\n",
       "      <td>Europe will now be looking to China to make su...</td>\n",
       "      <td>169760</td>\n",
       "      <td>1</td>\n",
       "    </tr>\n",
       "    <tr>\n",
       "      <th>1</th>\n",
       "      <td>Combine this with the polling of staffers re c...</td>\n",
       "      <td>35326</td>\n",
       "      <td>1</td>\n",
       "    </tr>\n",
       "    <tr>\n",
       "      <th>2</th>\n",
       "      <td>The scary, unimpeachable evidence that climate...</td>\n",
       "      <td>224985</td>\n",
       "      <td>1</td>\n",
       "    </tr>\n",
       "    <tr>\n",
       "      <th>3</th>\n",
       "      <td>@Karoli @morgfair @OsborneInk @dailykos \\nPuti...</td>\n",
       "      <td>476263</td>\n",
       "      <td>1</td>\n",
       "    </tr>\n",
       "    <tr>\n",
       "      <th>4</th>\n",
       "      <td>RT @FakeWillMoore: 'Female orgasms cause globa...</td>\n",
       "      <td>872928</td>\n",
       "      <td>0</td>\n",
       "    </tr>\n",
       "  </tbody>\n",
       "</table>\n",
       "</div>"
      ],
      "text/plain": [
       "                                             message  tweetid  sentiment\n",
       "0  Europe will now be looking to China to make su...   169760          1\n",
       "1  Combine this with the polling of staffers re c...    35326          1\n",
       "2  The scary, unimpeachable evidence that climate...   224985          1\n",
       "3  @Karoli @morgfair @OsborneInk @dailykos \\nPuti...   476263          1\n",
       "4  RT @FakeWillMoore: 'Female orgasms cause globa...   872928          0"
      ]
     },
     "execution_count": 24,
     "metadata": {},
     "output_type": "execute_result"
    }
   ],
   "source": [
    "test.head()"
   ]
  },
  {
   "cell_type": "markdown",
   "metadata": {
    "papermill": {
     "duration": 0.021635,
     "end_time": "2020-10-20T10:19:24.230783",
     "exception": false,
     "start_time": "2020-10-20T10:19:24.209148",
     "status": "completed"
    },
    "tags": []
   },
   "source": [
    "## Creating an output csv for submission"
   ]
  },
  {
   "cell_type": "code",
   "execution_count": 25,
   "metadata": {
    "execution": {
     "iopub.execute_input": "2020-10-20T10:19:24.279665Z",
     "iopub.status.busy": "2020-10-20T10:19:24.279057Z",
     "iopub.status.idle": "2020-10-20T10:19:24.553042Z",
     "shell.execute_reply": "2020-10-20T10:19:24.553426Z"
    },
    "papermill": {
     "duration": 0.301011,
     "end_time": "2020-10-20T10:19:24.553536",
     "exception": false,
     "start_time": "2020-10-20T10:19:24.252525",
     "status": "completed"
    },
    "tags": []
   },
   "outputs": [],
   "source": [
    "test[['tweetid','sentiment']].to_csv('testsubmission_8.csv', index=False)"
   ]
  },
  {
   "cell_type": "code",
   "execution_count": null,
   "metadata": {
    "papermill": {
     "duration": 0.021659,
     "end_time": "2020-10-20T10:19:24.597214",
     "exception": false,
     "start_time": "2020-10-20T10:19:24.575555",
     "status": "completed"
    },
    "tags": []
   },
   "outputs": [],
   "source": []
  }
 ],
 "metadata": {
  "kernelspec": {
   "display_name": "Python 3",
   "language": "python",
   "name": "python3"
  },
  "language_info": {
   "codemirror_mode": {
    "name": "ipython",
    "version": 3
   },
   "file_extension": ".py",
   "mimetype": "text/x-python",
   "name": "python",
   "nbconvert_exporter": "python",
   "pygments_lexer": "ipython3",
   "version": "3.7.6"
  },
  "papermill": {
   "duration": 33.667769,
   "end_time": "2020-10-20T10:19:24.725834",
   "environment_variables": {},
   "exception": null,
   "input_path": "__notebook__.ipynb",
   "output_path": "__notebook__.ipynb",
   "parameters": {},
   "start_time": "2020-10-20T10:18:51.058065",
   "version": "2.1.0"
  }
 },
 "nbformat": 4,
 "nbformat_minor": 4
}
